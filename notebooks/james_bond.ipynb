{
 "cells": [
  {
   "cell_type": "code",
   "execution_count": 1,
   "metadata": {},
   "outputs": [
    {
     "name": "stdout",
     "output_type": "stream",
     "text": [
      "Correlation between IMDb and Rotten Tomatoes ratings: 0.89\n",
      "\n",
      "Average movie lengths by decade:\n",
      "Year\n",
      "1962-01-01    110.0\n",
      "1963-01-01    115.0\n",
      "1964-01-01    110.0\n",
      "1965-01-01    130.0\n",
      "1967-01-01    117.0\n",
      "1969-01-01    142.0\n",
      "1971-01-01    120.0\n",
      "1973-01-01    121.0\n",
      "1974-01-01    125.0\n",
      "1977-01-01    125.0\n",
      "1979-01-01    126.0\n",
      "1981-01-01    127.0\n",
      "1983-01-01    131.0\n",
      "1985-01-01    131.0\n",
      "1987-01-01    130.0\n",
      "1989-01-01    133.0\n",
      "1995-01-01    130.0\n",
      "1997-01-01    119.0\n",
      "1999-01-01    128.0\n",
      "2002-01-01    133.0\n",
      "2006-01-01    144.0\n",
      "2008-01-01    106.0\n",
      "2012-01-01    143.0\n",
      "2015-01-01    148.0\n",
      "Name: Film_Length, dtype: float64\n",
      "\n",
      "Correlation between Bond's kills and ratings:\n",
      "                        Bond's Kills  IMDB rating  Rotten Tomatoes rating\n",
      "Bond's Kills                1.000000    -0.033319                0.089120\n",
      "IMDB rating                -0.033319     1.000000                0.886833\n",
      "Rotten Tomatoes rating      0.089120     0.886833                1.000000\n"
     ]
    }
   ],
   "source": [
    "import sys\n",
    "sys.path.append('../src')\n",
    "\n",
    "from data_loader import load_data\n",
    "from data_cleaner import clean_data\n",
    "from data_analyzer import analyze_ratings_correlation, analyze_movie_lengths, analyze_kills_vs_ratings\n",
    "from data_visualizer import plot_ratings_correlation, plot_movie_lengths_over_time, plot_kills_vs_ratings\n",
    "\n",
    "# Load the data\n",
    "df = load_data('../data/jamesbond.csv')\n",
    "\n",
    "# Clean the data\n",
    "df_clean = clean_data(df)\n",
    "\n",
    "# Perform analysis\n",
    "ratings_corr = analyze_ratings_correlation(df_clean)\n",
    "movie_lengths = analyze_movie_lengths(df_clean)\n",
    "kills_ratings_corr = analyze_kills_vs_ratings(df_clean)\n",
    "\n",
    "# Visualize results\n",
    "plot_ratings_correlation(df_clean)\n",
    "plot_movie_lengths_over_time(df_clean)\n",
    "plot_kills_vs_ratings(df_clean)\n",
    "\n",
    "# Display results\n",
    "print(f\"Correlation between IMDb and Rotten Tomatoes ratings: {ratings_corr:.2f}\")\n",
    "print(\"\\nAverage movie lengths by decade:\")\n",
    "print(movie_lengths)\n",
    "print(\"\\nCorrelation between Bond's kills and ratings:\")\n",
    "print(kills_ratings_corr)"
   ]
  }
 ],
 "metadata": {
  "kernelspec": {
   "display_name": "Python 3 (ipykernel)",
   "language": "python",
   "name": "python3"
  },
  "language_info": {
   "codemirror_mode": {
    "name": "ipython",
    "version": 3
   },
   "file_extension": ".py",
   "mimetype": "text/x-python",
   "name": "python",
   "nbconvert_exporter": "python",
   "pygments_lexer": "ipython3",
   "version": "3.10.13"
  }
 },
 "nbformat": 4,
 "nbformat_minor": 2
}
