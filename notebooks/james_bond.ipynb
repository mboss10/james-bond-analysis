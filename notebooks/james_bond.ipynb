{
 "cells": [
  {
   "cell_type": "code",
   "execution_count": null,
   "metadata": {},
   "outputs": [],
   "source": [
    "import sys\n",
    "sys.path.append('../src')\n",
    "\n",
    "from data_loader import load_data\n",
    "from data_cleaner import clean_data\n",
    "from data_analyzer import analyze_ratings_correlation, analyze_movie_lengths, analyze_kills_vs_ratings\n",
    "from data_visualizer import plot_ratings_correlation, plot_movie_lengths_over_time, plot_kills_vs_ratings\n",
    "\n",
    "# Load the data\n",
    "df = load_data('../data/jamesbond.csv')\n",
    "\n",
    "# Clean the data\n",
    "df_clean = clean_data(df)\n",
    "\n",
    "# Perform analysis\n",
    "ratings_corr = analyze_ratings_correlation(df_clean)\n",
    "movie_lengths = analyze_movie_lengths(df_clean)\n",
    "kills_ratings_corr = analyze_kills_vs_ratings(df_clean)\n",
    "\n",
    "# Visualize results\n",
    "plot_ratings_correlation(df_clean)\n",
    "plot_movie_lengths_over_time(df_clean)\n",
    "plot_kills_vs_ratings(df_clean)\n",
    "\n",
    "# Display results\n",
    "print(f\"Correlation between IMDb and Rotten Tomatoes ratings: {ratings_corr:.2f}\")\n",
    "print(\"\\nAverage movie lengths by decade:\")\n",
    "print(movie_lengths)\n",
    "print(\"\\nCorrelation between Bond's kills and ratings:\")\n",
    "print(kills_ratings_corr)"
   ]
  }
 ],
 "metadata": {
  "language_info": {
   "name": "python"
  }
 },
 "nbformat": 4,
 "nbformat_minor": 2
}
