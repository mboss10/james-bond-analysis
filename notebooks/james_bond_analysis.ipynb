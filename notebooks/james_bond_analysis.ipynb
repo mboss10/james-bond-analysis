import sys
sys.path.append('../src')

from data_loader import load_data
from data_cleaner import clean_data
from data_analyzer import analyze_ratings_correlation, analyze_movie_lengths, analyze_kills_vs_ratings
from data_visualizer import plot_ratings_correlation, plot_movie_lengths_over_time, plot_kills_vs_ratings

# Load the data
df = load_data('../data/james_bond_data.csv')

# Clean the data
df_clean = clean_data(df)

# Perform analysis
ratings_corr = analyze_ratings_correlation(df_clean)
movie_lengths = analyze_movie_lengths(df_clean)
kills_ratings_corr = analyze_kills_vs_ratings(df_clean)

# Visualize results
plot_ratings_correlation(df_clean)
plot_movie_lengths_over_time(df_clean)
plot_kills_vs_ratings(df_clean)

# Display results
print(f"Correlation between IMDb and Rotten Tomatoes ratings: {ratings_corr:.2f}")
print("\nAverage movie lengths by decade:")
print(movie_lengths)
print("\nCorrelation between Bond's kills and ratings:")
print(kills_ratings_corr)
